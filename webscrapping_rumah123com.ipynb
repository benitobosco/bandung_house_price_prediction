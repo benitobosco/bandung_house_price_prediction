{
 "cells": [
  {
   "cell_type": "code",
   "execution_count": 1,
   "id": "4ab15d13",
   "metadata": {},
   "outputs": [],
   "source": [
    "import time\n",
    "from selenium import webdriver\n",
    "from bs4 import BeautifulSoup\n",
    "import pandas as pd\n",
    "from selenium.webdriver.support.ui import WebDriverWait\n",
    "from selenium.webdriver.support import expected_conditions as EC\n",
    "from selenium.webdriver.common.by import By\n",
    "import numpy as np\n"
   ]
  },
  {
   "cell_type": "code",
   "execution_count": 25,
   "id": "bc91737c",
   "metadata": {
    "scrolled": true
   },
   "outputs": [],
   "source": [
    "import pandas as pd\n",
    "\n",
    "datanama = [] #\n",
    "harga = [] #\n",
    "daerah = [] #\n",
    "kamar = []\n",
    "toilet = []\n",
    "carport = []\n",
    "luastanah = []\n",
    "luasbangunan = []\n",
    "\n",
    "\n",
    "for i in range(1,101):\n",
    "\n",
    "    url = \"https://www.rumah123.com/jual/bandung/rumah/?bedroom=1&page={page}#qid~58781d5e-eb67-4f5f-b289-d593858b9e43\".format(page = i)\n",
    "\n",
    "    driver = webdriver.Chrome()\n",
    "    driver.get(url)\n",
    "\n",
    "    soup = BeautifulSoup(driver.page_source, \"html.parser\")\n",
    "    # print(soup)\n",
    "\n",
    "\n",
    "    x = 0\n",
    "    a = 1\n",
    "    for item in soup.findAll('div', class_ = 'ui-organism-intersection__element intersection-card-container'):\n",
    "        for cardname in item.findAll('div', class_ = 'card-featured__content-wrapper'):\n",
    "            for itemvalue in cardname.findAll('div', class_ = 'card-featured__middle-section'):\n",
    "                product_name = itemvalue.find('a').text\n",
    "                region = itemvalue.findAll('span')[1].text\n",
    "                datanama.append(product_name)\n",
    "                daerah.append(region)\n",
    "                for price in itemvalue.findAll('div', class_ = 'card-featured__middle-section__price'):\n",
    "                    houseprice = price.find('strong').text\n",
    "                    harga.append(houseprice)\n",
    "                for bedroom1 in itemvalue.findAll('div', class_ = 'card-featured__middle-section__attribute'):\n",
    "                    for lt in bedroom1.findAll('div', class_ = 'attribute-info'):\n",
    "                        if(a%2 != 0):\n",
    "                            luastanah.append(lt.find('span').text)\n",
    "                        else:\n",
    "                            luasbangunan.append(lt.find('span').text)\n",
    "                        a += 1\n",
    "                    for bedroom2 in bedroom1.findAll('div', class_ = 'flex ui-molecules-list__divider-none--horizontal flex-align-center flex-row flex-wrap relative ui-molecules-list'):\n",
    "                        for bedroom3 in bedroom2.findAll('div', class_ = 'relative ui-molecules-list__item'):\n",
    "                            if(x == 0):\n",
    "                                if((bedroom3.find('div', class_='attribute-grid').find('use').get('xlink:href')) == '#rui-icon-bed-small'):\n",
    "                                    kamar.append(bedroom3.text)\n",
    "                                    x+=1\n",
    "                                else:\n",
    "                                    kamar.append(0)\n",
    "                                    if((bedroom3.find('div', class_='attribute-grid').find('use').get('xlink:href')) == '#rui-icon-bath-small'):\n",
    "                                        toilet.append(bedroom3.text)\n",
    "                                        x = 2\n",
    "                                    elif((bedroom3.find('div', class_='attribute-grid').find('use').get('xlink:href')) == '#rui-icon-car-small'):\n",
    "                                        carport.append(bedroom3.text)\n",
    "                                        x = 0\n",
    "                            elif(x==1):\n",
    "                                if((bedroom3.find('div', class_='attribute-grid').find('use').get('xlink:href')) == '#rui-icon-bath-small'):\n",
    "                                    toilet.append(bedroom3.text)\n",
    "                                    x+=1\n",
    "                                else:\n",
    "                                    toilet.append(0)\n",
    "                                    if((bedroom3.find('div', class_='attribute-grid').find('use').get('xlink:href')) == '#rui-icon-bed-small'):\n",
    "                                        kamar.append(bedroom3.text)\n",
    "                                        x = 1\n",
    "                                    elif((bedroom3.find('div', class_='attribute-grid').find('use').get('xlink:href')) == '#rui-icon-car-small'):\n",
    "                                        carport.append(bedroom3.text)\n",
    "                                        x = 0\n",
    "                            elif(x==2):\n",
    "                                if((bedroom3.find('div', class_='attribute-grid').find('use').get('xlink:href')) == '#rui-icon-car-small'):\n",
    "                                    carport.append(bedroom3.text)\n",
    "                                    x = 0\n",
    "                                else:\n",
    "                                    carport.append(0)\n",
    "                                    if((bedroom3.find('div', class_='attribute-grid').find('use').get('xlink:href')) == '#rui-icon-bed-small'):\n",
    "                                        kamar.append(bedroom3.text)\n",
    "                                        x = 1\n",
    "                                    elif((bedroom3.find('div', class_='attribute-grid').find('use').get('xlink:href')) == '#rui-icon-bath-small'):\n",
    "                                        toilet.append(bedroom3.text)\n",
    "                                        x = 2\n",
    "    if(np.array(carport).shape!=np.array(kamar).shape):\n",
    "        carport.append(0)\n",
    "\n",
    "data = {\n",
    "    \"namaproduk\": datanama,\n",
    "    \"harga\" : harga,\n",
    "    \"daerah\" : daerah,\n",
    "    \"kamar\" : kamar,\n",
    "    \"toilet\": toilet,\n",
    "    \"carport\": carport,\n",
    "    \"luastanah\": luastanah,\n",
    "    \"luasbangunan\": luasbangunan\n",
    "}                \n",
    "\n",
    "# df = pd.DataFrame(data)\n",
    "\n",
    "\n",
    "# print(kamar)\n",
    "# print(toilet)\n",
    "# print(carport)\n",
    "\n",
    "driver.close()\n"
   ]
  },
  {
   "cell_type": "code",
   "execution_count": 26,
   "id": "4a58dc77",
   "metadata": {},
   "outputs": [],
   "source": [
    "df = pd.DataFrame(data)"
   ]
  },
  {
   "cell_type": "code",
   "execution_count": 316,
   "id": "65cbf043",
   "metadata": {},
   "outputs": [],
   "source": [
    "data = {\n",
    "    \"namaproduk\": datanama,\n",
    "    \"harga\" : harga,\n",
    "    \"daerah\" : daerah,\n",
    "    \"kamar\" : kamar,\n",
    "    \"toilet\": toilet,\n",
    "    \"carport\": carport,\n",
    "    \"luastanah\": luastanah,\n",
    "    \"luasbangunan\": luasbangunan\n",
    "}                \n",
    "\n",
    "df = pd.DataFrame(data)"
   ]
  },
  {
   "cell_type": "code",
   "execution_count": 308,
   "id": "321c6401",
   "metadata": {},
   "outputs": [
    {
     "name": "stdout",
     "output_type": "stream",
     "text": [
      "7\n"
     ]
    }
   ],
   "source": [
    "print(i)"
   ]
  },
  {
   "cell_type": "code",
   "execution_count": 205,
   "id": "77610db0",
   "metadata": {},
   "outputs": [
    {
     "name": "stdout",
     "output_type": "stream",
     "text": [
      "2\n"
     ]
    }
   ],
   "source": [
    "print(bedroom3.text)"
   ]
  },
  {
   "cell_type": "code",
   "execution_count": 28,
   "id": "eeb0b863",
   "metadata": {
    "scrolled": true
   },
   "outputs": [
    {
     "data": {
      "text/html": [
       "<div>\n",
       "<style scoped>\n",
       "    .dataframe tbody tr th:only-of-type {\n",
       "        vertical-align: middle;\n",
       "    }\n",
       "\n",
       "    .dataframe tbody tr th {\n",
       "        vertical-align: top;\n",
       "    }\n",
       "\n",
       "    .dataframe thead th {\n",
       "        text-align: right;\n",
       "    }\n",
       "</style>\n",
       "<table border=\"1\" class=\"dataframe\">\n",
       "  <thead>\n",
       "    <tr style=\"text-align: right;\">\n",
       "      <th></th>\n",
       "      <th>namaproduk</th>\n",
       "      <th>harga</th>\n",
       "      <th>daerah</th>\n",
       "      <th>kamar</th>\n",
       "      <th>toilet</th>\n",
       "      <th>carport</th>\n",
       "      <th>luastanah</th>\n",
       "      <th>luasbangunan</th>\n",
       "    </tr>\n",
       "  </thead>\n",
       "  <tbody>\n",
       "    <tr>\n",
       "      <th>1721</th>\n",
       "      <td>Rumah Minimalis Jl Utama 2 Kamar Tidur Row Jal...</td>\n",
       "      <td>Rp 208 Juta</td>\n",
       "      <td>Moch Toha, Bandung</td>\n",
       "      <td>2</td>\n",
       "      <td>1</td>\n",
       "      <td>1</td>\n",
       "      <td>59 m²</td>\n",
       "      <td>36 m²</td>\n",
       "    </tr>\n",
       "    <tr>\n",
       "      <th>1722</th>\n",
       "      <td>Dijual Kost Aktif Khusus Putri Babakan Jeruk K...</td>\n",
       "      <td>Rp 12 Miliar</td>\n",
       "      <td>Sukajadi, Bandung</td>\n",
       "      <td>35</td>\n",
       "      <td>21</td>\n",
       "      <td>0</td>\n",
       "      <td>291 m²</td>\n",
       "      <td>900 m²</td>\n",
       "    </tr>\n",
       "  </tbody>\n",
       "</table>\n",
       "</div>"
      ],
      "text/plain": [
       "                                             namaproduk         harga  \\\n",
       "1721  Rumah Minimalis Jl Utama 2 Kamar Tidur Row Jal...   Rp 208 Juta   \n",
       "1722  Dijual Kost Aktif Khusus Putri Babakan Jeruk K...  Rp 12 Miliar   \n",
       "\n",
       "                  daerah kamar toilet carport luastanah luasbangunan  \n",
       "1721  Moch Toha, Bandung     2      1       1     59 m²        36 m²  \n",
       "1722   Sukajadi, Bandung    35     21       0    291 m²       900 m²  "
      ]
     },
     "execution_count": 28,
     "metadata": {},
     "output_type": "execute_result"
    }
   ],
   "source": [
    "df['namaproduk'] = df['namaproduk'].str.strip()\n",
    "df.to_csv('bandung_house_price_dataset_2023.csv', index = False)\n",
    "df[1721:1723]"
   ]
  },
  {
   "cell_type": "code",
   "execution_count": 302,
   "id": "c01c87d1",
   "metadata": {},
   "outputs": [
    {
     "name": "stdout",
     "output_type": "stream",
     "text": [
      "(200,)\n"
     ]
    }
   ],
   "source": [
    "print(np.array(luasbangunan).shape)"
   ]
  },
  {
   "cell_type": "code",
   "execution_count": 313,
   "id": "8c429e04",
   "metadata": {},
   "outputs": [
    {
     "name": "stdout",
     "output_type": "stream",
     "text": [
      "5\n"
     ]
    }
   ],
   "source": [
    "for i in range(5,6):\n",
    "    print(i)"
   ]
  }
 ],
 "metadata": {
  "kernelspec": {
   "display_name": "gpu2",
   "language": "python",
   "name": "gpu2"
  },
  "language_info": {
   "codemirror_mode": {
    "name": "ipython",
    "version": 3
   },
   "file_extension": ".py",
   "mimetype": "text/x-python",
   "name": "python",
   "nbconvert_exporter": "python",
   "pygments_lexer": "ipython3",
   "version": "3.10.6"
  }
 },
 "nbformat": 4,
 "nbformat_minor": 5
}
